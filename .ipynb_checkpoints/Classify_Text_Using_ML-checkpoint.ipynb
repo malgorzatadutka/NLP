{
 "cells": [
  {
   "cell_type": "markdown",
   "id": "6cccdf6f",
   "metadata": {},
   "source": [
    "**1. Collect articles from the blog**"
   ]
  },
  {
   "cell_type": "code",
   "execution_count": 7,
   "id": "54b9b1c9",
   "metadata": {},
   "outputs": [
    {
     "name": "stdout",
     "output_type": "stream",
     "text": [
      "Older Posts https://doxydonkey.blogspot.com/search?updated-max=2017-05-23T19:53:00-07:00&max-results=7\n",
      "Older Posts https://doxydonkey.blogspot.com/search?updated-max=2017-05-14T19:02:00-07:00&max-results=7&start=7&by-date=false\n",
      "Older Posts https://doxydonkey.blogspot.com/search?updated-max=2017-05-02T19:43:00-07:00&max-results=7&start=14&by-date=false\n",
      "Older Posts https://doxydonkey.blogspot.com/search?updated-max=2017-04-17T19:26:00-07:00&max-results=7&start=21&by-date=false\n",
      "Older Posts https://doxydonkey.blogspot.com/search?updated-max=2017-04-10T18:56:00-07:00&max-results=7&start=28&by-date=false\n",
      "Older Posts https://doxydonkey.blogspot.com/search?updated-max=2017-03-30T19:57:00-07:00&max-results=7&start=35&by-date=false\n",
      "Older Posts https://doxydonkey.blogspot.com/search?updated-max=2017-03-20T19:47:00-07:00&max-results=7&start=42&by-date=false\n",
      "Older Posts https://doxydonkey.blogspot.com/search?updated-max=2017-03-02T17:42:00-08:00&max-results=7&start=49&by-date=false\n",
      "Older Posts https://doxydonkey.blogspot.com/search?updated-max=2017-02-21T19:13:00-08:00&max-results=7&start=56&by-date=false\n",
      "Older Posts https://doxydonkey.blogspot.com/search?updated-max=2017-02-12T18:34:00-08:00&max-results=7&start=63&by-date=false\n",
      "Older Posts https://doxydonkey.blogspot.com/search?updated-max=2017-02-01T18:56:00-08:00&max-results=7&start=70&by-date=false\n",
      "Older Posts https://doxydonkey.blogspot.com/search?updated-max=2017-01-22T18:58:00-08:00&max-results=7&start=77&by-date=false\n",
      "Older Posts https://doxydonkey.blogspot.com/search?updated-max=2017-01-11T18:09:00-08:00&max-results=7&start=84&by-date=false\n",
      "Older Posts https://doxydonkey.blogspot.com/search?updated-max=2017-01-02T17:59:00-08:00&max-results=7&start=91&by-date=false\n",
      "Older Posts https://doxydonkey.blogspot.com/search?updated-max=2016-12-22T18:58:00-08:00&max-results=7&start=98&by-date=false\n",
      "Older Posts https://doxydonkey.blogspot.com/search?updated-max=2016-12-13T18:57:00-08:00&max-results=7&start=105&by-date=false\n",
      "Older Posts https://doxydonkey.blogspot.com/search?updated-max=2016-12-04T18:58:00-08:00&max-results=7&start=112&by-date=false\n",
      "Older Posts https://doxydonkey.blogspot.com/search?updated-max=2016-09-09T07:34:00-07:00&max-results=7&start=119&by-date=false\n",
      "Older Posts https://doxydonkey.blogspot.com/search?updated-max=2016-08-28T20:08:00-07:00&max-results=7&start=126&by-date=false\n",
      "Older Posts https://doxydonkey.blogspot.com/search?updated-max=2016-08-17T19:24:00-07:00&max-results=7&start=133&by-date=false\n",
      "Older Posts https://doxydonkey.blogspot.com/search?updated-max=2016-08-07T20:30:00-07:00&max-results=7&start=140&by-date=false\n",
      "Older Posts https://doxydonkey.blogspot.com/search?updated-max=2016-07-26T19:55:00-07:00&max-results=7&start=147&by-date=false\n",
      "Older Posts https://doxydonkey.blogspot.com/search?updated-max=2016-07-17T19:47:00-07:00&max-results=7&start=154&by-date=false\n",
      "Older Posts https://doxydonkey.blogspot.com/search?updated-max=2016-07-06T19:34:00-07:00&max-results=7&start=161&by-date=false\n",
      "Older Posts https://doxydonkey.blogspot.com/search?updated-max=2016-06-26T19:36:00-07:00&max-results=7&start=168&by-date=false\n",
      "Older Posts https://doxydonkey.blogspot.com/search?updated-max=2016-06-15T19:23:00-07:00&max-results=7&start=175&by-date=false\n",
      "Older Posts https://doxydonkey.blogspot.com/search?updated-max=2016-06-06T18:50:00-07:00&max-results=7&start=182&by-date=false\n",
      "Older Posts https://doxydonkey.blogspot.com/search?updated-max=2016-05-26T20:08:00-07:00&max-results=7&start=189&by-date=false\n",
      "Older Posts https://doxydonkey.blogspot.com/search?updated-max=2016-05-17T18:52:00-07:00&max-results=7&start=196&by-date=false\n",
      "Older Posts https://doxydonkey.blogspot.com/search?updated-max=2016-05-06T19:26:00-07:00&max-results=7&start=203&by-date=false\n",
      "Older Posts https://doxydonkey.blogspot.com/search?updated-max=2016-04-27T19:03:00-07:00&max-results=7&start=210&by-date=false\n",
      "Older Posts https://doxydonkey.blogspot.com/search?updated-max=2016-04-19T19:36:00-07:00&max-results=7&start=217&by-date=false\n",
      "Older Posts https://doxydonkey.blogspot.com/search?updated-max=2016-04-10T19:19:00-07:00&max-results=7&start=224&by-date=false\n",
      "Older Posts https://doxydonkey.blogspot.com/search?updated-max=2016-03-30T19:12:00-07:00&max-results=7&start=231&by-date=false\n",
      "Older Posts https://doxydonkey.blogspot.com/search?updated-max=2016-03-20T18:41:00-07:00&max-results=7&start=238&by-date=false\n",
      "Older Posts https://doxydonkey.blogspot.com/search?updated-max=2016-03-09T18:38:00-08:00&max-results=7&start=245&by-date=false\n",
      "Older Posts https://doxydonkey.blogspot.com/search?updated-max=2016-02-28T17:47:00-08:00&max-results=7&start=252&by-date=false\n",
      "Older Posts https://doxydonkey.blogspot.com/search?updated-max=2016-02-17T18:44:00-08:00&max-results=7&start=259&by-date=false\n",
      "Older Posts https://doxydonkey.blogspot.com/search?updated-max=2016-02-08T18:13:00-08:00&max-results=7&start=266&by-date=false\n",
      "Older Posts https://doxydonkey.blogspot.com/search?updated-max=2016-01-28T19:45:00-08:00&max-results=7&start=273&by-date=false\n",
      "Older Posts https://doxydonkey.blogspot.com/search?updated-max=2016-01-18T18:30:00-08:00&max-results=7&start=280&by-date=false\n",
      "Older Posts https://doxydonkey.blogspot.com/search?updated-max=2016-01-07T19:03:00-08:00&max-results=7&start=287&by-date=false\n",
      "Older Posts https://doxydonkey.blogspot.com/search?updated-max=2015-12-28T18:26:00-08:00&max-results=7&start=294&by-date=false\n",
      "Older Posts https://doxydonkey.blogspot.com/search?updated-max=2015-12-16T18:24:00-08:00&max-results=7&start=301&by-date=false\n",
      "Older Posts https://doxydonkey.blogspot.com/search?updated-max=2015-12-07T18:24:00-08:00&max-results=7&start=308&by-date=false\n",
      "Older Posts https://doxydonkey.blogspot.com/search?updated-max=2015-11-26T17:49:00-08:00&max-results=7&start=315&by-date=false\n",
      "Older Posts https://doxydonkey.blogspot.com/search?updated-max=2015-11-17T18:18:00-08:00&max-results=7&start=322&by-date=false\n",
      "Older Posts https://doxydonkey.blogspot.com/search?updated-max=2015-11-05T20:15:00-08:00&max-results=7&start=329&by-date=false\n",
      "Older Posts https://doxydonkey.blogspot.com/search?updated-max=2015-10-27T20:04:00-07:00&max-results=7&start=336&by-date=false\n",
      "Older Posts https://doxydonkey.blogspot.com/search?updated-max=2015-10-12T19:45:00-07:00&max-results=7&start=343&by-date=false\n",
      "Older Posts https://doxydonkey.blogspot.com/search?updated-max=2015-09-30T19:33:00-07:00&max-results=7&start=350&by-date=false\n",
      "Older Posts https://doxydonkey.blogspot.com/search?updated-max=2015-09-20T19:11:00-07:00&max-results=7&start=357&by-date=false\n",
      "Older Posts https://doxydonkey.blogspot.com/search?updated-max=2015-09-09T19:32:00-07:00&max-results=7&start=364&by-date=false\n",
      "Older Posts https://doxydonkey.blogspot.com/search?updated-max=2015-08-31T19:31:00-07:00&max-results=7&start=371&by-date=false\n",
      "Older Posts https://doxydonkey.blogspot.com/search?updated-max=2015-08-20T19:29:00-07:00&max-results=7&start=378&by-date=false\n",
      "Older Posts https://doxydonkey.blogspot.com/search?updated-max=2015-08-11T19:32:00-07:00&max-results=7&start=385&by-date=false\n",
      "Older Posts https://doxydonkey.blogspot.com/search?updated-max=2015-08-02T19:04:00-07:00&max-results=7&start=392&by-date=false\n",
      "Older Posts https://doxydonkey.blogspot.com/search?updated-max=2015-07-22T19:39:00-07:00&max-results=7&start=399&by-date=false\n",
      "Older Posts https://doxydonkey.blogspot.com/search?updated-max=2015-07-13T19:38:00-07:00&max-results=7&start=406&by-date=false\n",
      "Older Posts https://doxydonkey.blogspot.com/search?updated-max=2015-07-02T21:15:00-07:00&max-results=7&start=413&by-date=false\n",
      "Older Posts https://doxydonkey.blogspot.com/search?updated-max=2015-06-23T19:30:00-07:00&max-results=7&start=420&by-date=false\n",
      "Older Posts https://doxydonkey.blogspot.com/search?updated-max=2015-06-14T19:36:00-07:00&max-results=7&start=427&by-date=false\n",
      "Older Posts https://doxydonkey.blogspot.com/search?updated-max=2015-06-02T19:38:00-07:00&max-results=7&start=434&by-date=false\n",
      "Older Posts https://doxydonkey.blogspot.com/search?updated-max=2015-05-24T20:16:00-07:00&max-results=7&start=441&by-date=false\n",
      "Older Posts https://doxydonkey.blogspot.com/search?updated-max=2015-05-13T20:18:00-07:00&max-results=7&start=448&by-date=false\n"
     ]
    },
    {
     "name": "stdout",
     "output_type": "stream",
     "text": [
      "Older Posts https://doxydonkey.blogspot.com/search?updated-max=2015-05-04T20:23:00-07:00&max-results=7&start=455&by-date=false\n",
      "Older Posts https://doxydonkey.blogspot.com/search?updated-max=2015-04-23T20:19:00-07:00&max-results=7&start=462&by-date=false\n",
      "Older Posts https://doxydonkey.blogspot.com/search?updated-max=2015-04-14T19:40:00-07:00&max-results=7&start=469&by-date=false\n",
      "Older Posts https://doxydonkey.blogspot.com/search?updated-max=2015-04-05T20:22:00-07:00&max-results=7&start=476&by-date=false\n",
      "Older Posts https://doxydonkey.blogspot.com/search?updated-max=2015-03-24T20:12:00-07:00&max-results=7&start=483&by-date=false\n",
      "Older Posts https://doxydonkey.blogspot.com/search?updated-max=2015-03-15T20:41:00-07:00&max-results=7&start=490&by-date=false\n",
      "Older Posts https://doxydonkey.blogspot.com/search?updated-max=2015-03-03T19:30:00-08:00&max-results=7&start=497&by-date=false\n",
      "Older Posts https://doxydonkey.blogspot.com/search?updated-max=2015-02-22T19:55:00-08:00&max-results=7&start=504&by-date=false\n",
      "Older Posts https://doxydonkey.blogspot.com/search?updated-max=2015-02-11T20:02:00-08:00&max-results=7&start=511&by-date=false\n",
      "Older Posts https://doxydonkey.blogspot.com/search?updated-max=2015-02-02T19:46:00-08:00&max-results=7&start=518&by-date=false\n",
      "Older Posts https://doxydonkey.blogspot.com/search?updated-max=2015-01-22T19:50:00-08:00&max-results=7&start=524&by-date=false\n",
      "Older Posts https://doxydonkey.blogspot.com/search?updated-max=2015-01-15T19:17:00-08:00&max-results=7&start=529&by-date=false\n",
      "Older Posts https://doxydonkey.blogspot.com/search?updated-max=2015-01-06T19:48:00-08:00&max-results=7&start=536&by-date=false\n",
      "Older Posts https://doxydonkey.blogspot.com/search?updated-max=2014-12-25T21:30:00-08:00&max-results=7&start=543&by-date=false\n",
      "Older Posts https://doxydonkey.blogspot.com/search?updated-max=2014-12-15T19:24:00-08:00&max-results=7&start=550&by-date=false\n",
      "Older Posts https://doxydonkey.blogspot.com/search?updated-max=2014-12-05T01:52:00-08:00&max-results=7&start=557&by-date=false\n",
      "Older Posts https://doxydonkey.blogspot.com/search?updated-max=2014-11-26T01:44:00-08:00&max-results=7&start=564&by-date=false\n",
      "Older Posts https://doxydonkey.blogspot.com/search?updated-max=2014-11-17T01:41:00-08:00&max-results=7&start=571&by-date=false\n",
      "Older Posts https://doxydonkey.blogspot.com/search?updated-max=2014-11-06T01:38:00-08:00&max-results=7&start=578&by-date=false\n",
      "Older Posts https://doxydonkey.blogspot.com/search?updated-max=2014-10-28T01:24:00-07:00&max-results=7&start=585&by-date=false\n",
      "Older Posts https://doxydonkey.blogspot.com/search?updated-max=2014-10-17T01:20:00-07:00&max-results=7&start=592&by-date=false\n"
     ]
    }
   ],
   "source": [
    "import urllib.request as req\n",
    "from bs4 import BeautifulSoup\n",
    "\n",
    "def getArticles(url, links):\n",
    "    request = req.Request(url)\n",
    "    response = req.urlopen(request)\n",
    "    soup = BeautifulSoup(response)\n",
    "    for article in soup.findAll('a'):\n",
    "        try:\n",
    "            url = article['href']\n",
    "            title = article['title']\n",
    "            if title == \"Older Posts\":\n",
    "                print(title, url)\n",
    "                links.append(url)\n",
    "                getArticles(url, links)\n",
    "        except: \n",
    "            title = \"\"\n",
    "    return\n",
    "blogUrl = \"https://doxydonkey.blogspot.com/\"\n",
    "links = []\n",
    "getArticles(blogUrl, links)"
   ]
  },
  {
   "cell_type": "code",
   "execution_count": 28,
   "id": "19bd8504",
   "metadata": {},
   "outputs": [
    {
     "ename": "SyntaxError",
     "evalue": "expected ':' (224731827.py, line 7)",
     "output_type": "error",
     "traceback": [
      "\u001b[1;36m  Cell \u001b[1;32mIn[28], line 7\u001b[1;36m\u001b[0m\n\u001b[1;33m    if url.startswith(\"http\")\u001b[0m\n\u001b[1;37m                             ^\u001b[0m\n\u001b[1;31mSyntaxError\u001b[0m\u001b[1;31m:\u001b[0m expected ':'\n"
     ]
    }
   ],
   "source": [
    "def getLinks(url, links):\n",
    "    request = req.Request(url)\n",
    "    response = req.urlopen(request)\n",
    "    soup = BeautifulSoup(response)\n",
    "    for article in soup.findAll('a'):\n",
    "        url = article['href']\n",
    "        if url.startswith(\"http\"):\n",
    "            links.append(url)\n",
    "    print(links)\n",
    "    return\n",
    "    \n",
    "#     posts = []\n",
    "#     for div in mydivs:\n",
    "#         post += map(lambda p: p.text.encode('ascii', errors='replace').replace(\"?\", \" \")), div.findAll(\"li\"))\n",
    "#     return posts\n",
    "links = []\n",
    "articlesUrl = getText(\"https://cakeit.pl/Kategorie/desery/page/2/\", links)\n",
    "\n",
    "\n",
    "    "
   ]
  },
  {
   "cell_type": "code",
   "execution_count": 25,
   "id": "669c54ef",
   "metadata": {},
   "outputs": [
    {
     "name": "stdout",
     "output_type": "stream",
     "text": [
      "<class 'str'>\n"
     ]
    },
    {
     "data": {
      "text/plain": [
       "'   Desery, Dzień Dziecka, Imprezy dziecięce, Przyjęcia, Torciki  Skrzynka z truskawkami – czekoladowy sernik z galaretką  Posted on6 czerwca 20233 stycznia 2024AuthorAneta       Obserwuj nas! Skrzynka z truskawkami to deser, z którego jestem bardzo dumna i wiem, że Ty też będziesz. 🙂 Skrzynkę przygotowałam z kruchego ciasta. Okazało się to łatwiejsze niż się wydaje. Z równo rozwałkowanego (dzięki listwom dystansowym) i dobrze schłodzonego ciasta łatwo wyciąć potrzebny kształt i nie ma później problemu ze sklejaniem skrzynki.  W środku możesz umieścić dowolne ciasto lub tort. Zdecydowałam się na kruchy spód (żeby już nie robić kolejnego ciasta), czekoladową masę serową bez pieczenia oraz domową truskawkową galaretkę. W serniku nie ma żelatyny, dzięki czemu jest aksamitny i mazisty. Wręcz rozpływa się w ustach! Bardzo polecam.  Jak przygotować skrzynkę z truskawkami?    Spis treści  Potrzebne narzędziaKod rabatowy na zakupy!Szablon do wycięcia skrzynkiKruche ciastoWałkowanie i wycinaniePieczenieSernik czekoladowy bez pieczeniaDomowa galaretka truskawkowaSkładanie deseruWymiary formyInna metoda składania Potrzebne narzędzia*:  dwie silikonowe maty perforowane, opcjonalnie możesz użyć zwykłej maty silikonowej lub papieru do pieczenia maty silikonowe (możesz zastąpić papierem do pieczenia) wałek do ciasta (np. taki) listwy dystansowe o grubości 2 i 3 mm (nie są konieczne, ale dzięki nim idealnie rozwałkujesz ciasto) blaszka do pieczenia wielorazowy lub jednorazowy rękaw cukierniczy waga kuchenna rant regulowany lub forma o wymiarach ok. 17,7 x 26,7 cm tarka (polecam Microplane – jest dość droga, ale niezastąpiona) folia rantowa (opcjonalnie) doropatka – łopatka do wykładania masy i wyrównywania (opcjonalnie) mikser garnek, sitko, nóż szablon do wycięcia kruchego ciasta  *dla Twojej wygody na liście narzędzi dodałam linki do produktów z których korzystam. Nie musisz już przeszukiwać internetu w ich poszukiwaniu.   Kod rabatowy na zakupy! Mamy dla Ciebie rabat na zakupy w:  sklep Słodka Pasja (5%) Miniowe Formy 3D (10%) Słodki Bufet (10%)  Z kuponem rabatowym “cakeitpl” otrzymasz zniżkę na całe zamówienie! POBIERZ DARMOWY EBOOKZapisz się na newsletter Cakeit.pl, a w prezencie otrzymasz ebook \"Tort pod podstaw\", z którego dowiesz się jakich narzędzi potrzebujesz do stworzenia tortu, jaki biszkopt jest najlepszy i jak go pokroić, jak złożyć tort i jak zaplanować pracę nad nim. Znajdziesz też 19 pomysłów na dekoracje tortów wraz z dokładnymi tutorialami. W Twoje ręce trafi kompendium wiedzy o tworzeniu tortów! POBIERZ EBOOK Skrzynka z truskawkami – opis wykonania krok po kroku Z podanych proporcji przygotujesz ciasto na ok 16 porcji.  Szablon do wycięcia skrzynki Przygotowałam dla Ciebie szablon, który możesz wydrukować i wyciąć. KLIKNIJ żeby pobrać szablon w formanie pdf Jeśli korzystasz z formy o innych wymiarach to stwórz własny szablon dopasowując wymiary do swoich potrzeb.   Kruche ciasto – przepis Z poniższej ilości wychodzi dokładnie tyle ciasta ile potrzeba na spód i skrzynkę (pod warunkiem, że spód ma 2 mm grubości, a skrzynka – 3 mm). Jeśli chcesz zrobić grubsze ciasto lub wykonać jeszcze ozdoby to użyj podwójnej ilości składników. Jeśli chcesz przygotować tylko sernik (bez skrzynki) to z pozostałego ciasta upiecz ciasteczka (są pyszne!), albo użyj dobrych, sklepowych herbatników (tutaj znajdziesz info, które mają dobry skład). Składniki:  240 g mąki pszennej 35 g mąki migdałowej 95 g cukru pudru 120 g zimnego masła (pokrojonego) szczypta soli 1 jajko (50-60 g)  1. W misie miksera umieść obie mąki, cukier puder, szczyptę soli i masło pokrojone w kostkę. Zagniataj do powstania ciasta o konsystencji kruszonki.  2. Dodaj jajko i dalej zagniataj aż powstanie gładkie ciasto.  Kruche ciasto – wałkowanie i wycinanie 1. Ciasto podziel na dwie części. Każdą z nich rozwałkuj pomiędzy dwoma matami silikonowymi lub dwoma arkuszami papieru na grubość 3 mm. Korzystam z listew dystansowych – dzięki temu ciasto jest równej grubości w każdym miejscu. Tak przygotowane ciasto włóż do zamrażarki na około 20 minut.  2. Na cieście ułóż wycięte szablony i nożem wytnij kształty. Potrzebuje 2 długie ścianki, 2 krótkie i 4 trójkąty. Pozostałe ciasto rozwałkuj na grubość 2 mm i schłódź. Z niego wytniesz spód do sernika. 3. Wycięte ciasto przełóż na płaską blaszkę wyłożoną matą perforowaną.4. Żeby ciasto na skrzynkę było równiutkie przykryj je drugą matą perforowaną. Ciasta na spód sernika nie przykrywaj matą – wyrośnie nieco wyższe. Próbowałam piec ciasto kruche na ścianki bez przykrycia matą perforowaną. Było w porządku, jednak wyrastało nieco nierówno co utrudniało składanie skrzynki i efekt wizualny nie był tak dobry.  Ciasto kruche – pieczenie 1. Piecz w temperaturze 160°C i przez 20-25 minut w trybie góra-dół, aż ciasto się ładnie zarumieni. Małe elementy polecam piec oddzielnie bo będą gotowe już po ok. 15 minutach. Upieczone ciasto pozostaw na blacie do ostudzenia. W razie potrzeby tarką spiłuj powstałe nierówności. 2. Ciasto na spód sernika umieść w rancie lub formie do pieczenia. Brzegi rantu możesz zabezpieczyć folią rantową, dzięki czemu później nie będziesz musiała odcinać ciasta od brzegu formy.  Sernik czekoladowy bez pieczenia – przepis  750 g twarogu zmielonego trzykrotnie (użyłam sera Wieluń Mój ulubiony) 120 g cukru pudru 25 g kakao 250 g czekolady deserowej (50%) 150 ml śmietanki 30% lub 36%  1. Kakao zalej 50 ml wrzątku i wymieszaj.  2. Zmiksuj twaróg, cukier puder i kakao. 3. Czekoladę posiekaj i rozpuść w mikrofalówce (mieszając co 10-20 sekund) lub w kąpieli wodnej.4. Czekoladę dodaj do masy serowej i dokładnie miksuj. 5. Śmietankę ubij na 3/4 (ma być gęsta, ale nie sztywna) i wymieszaj z masą serową. 6. Sernik przełóż na kruche ciasto. 7. Wygładź i i włóż do lodówki na min. kilka godzin.  Domowa galaretka truskawkowa – przepis Zamiast korzystać z poniższego przepisu możesz użyć kupnej galaretki i dodać do niej świeże truskawki (ale smak będzie gorszy!). Składniki:  600 g truskawek (mogą być mrożone) 100 g cukru 15 g żelatyny  1. Truskawki wraz z cukrem umieść w garnku i podgrzewaj do czasu aż owoce zaczną się rozpadać. 2. W małym garnuszku umieść żelatynę i zalej niewielką ilością wody. Odstaw na kilka minut aż napęcznieje.  3. Gorące truskawki przetrzyj przez sitko żeby pozbyć się pestek. 4. Napęczniałą żelatynę wymieszaj z przetartym musem truskawkowym. Ważne żeby mus był gorący bo tylko wtedy żelatyna się rozpuści. Ja najczęściej podgrzewam żelatynę na małym ogniu i dopiero, gdy się upłynni to dodaję ją do owoców. Wtedy mam pewność, że wszystko się połączy.  5. Galaretkę wystudź. Ma być chłodna, ale nie powinna zacząć tężeć. Wylej ją na sernik i odstaw do lodówki na kilka godzin.  Skrzynka z truskawkami – składanie deseru Składniki:  3 kostki rozpuszczonej białej czekolady  1. Sernik wyjmij z rantu i umieść na docelowym talerzu lub podkładzie. 2. Na brzeg ścianki nałóż trochę białej czekolady. Użyj do tego celu rękawa cukierniczego.3. Umieść długą ściankę przy cieście i prostopadle do niej umieść drugą ściankę. Lekko dociśnij. Przytrzymaj aż czekolada zacznie tężeć. Potem z drugiej strony dodaj kolejną ściankę, a następnie nałóż czekoladę na krótsze brzegi i umieść ostatnią ścianę. 4. Możesz użyć zamrażacza spożywczego, który sprawi, że czekolada od razu zastygnie. Możesz też całość spiąć w rancie i włożyć do lodówki. 5. Gdy wszystkie ścianki są już sklejone, to nałóż trochę czekolady na górę kruchego ciasta i przyklej trójkąty. 6. Gotowe ciasto umieść w lodówce. Przed podaniem udekoruj owocami. Skrzynka z truskawkami – wymiary formy Najbardziej problematyczne w stworzeniu skrzynki mogą być wymiary formy. Polecam użycie rantu regulowanego. Dzięki niemu możesz zrobić ciasto dowolnej wielkości. Jedna forma zastąpi wiele innych blaszek. Jednak jeśli nie masz rantu regulowanego, to możesz użyć dowolnej formy. Pamiętaj jednak, że wtedy musisz dopasować wymiary kruchego ciasta do swojej formy. Zasada jest taka – wymiar ciasta kruchego na spód (i całego sernika) musi być min. o 8 mm mniejszy niż długości ścianek. To umożliwi ładne złożenie skrzynki wokół ciasta.  Skrzynka złożona oddzielnie Możesz też złożyć skrzynkę oddzielnie, a potem ułożyć ją wokół sernika. Wtedy kruche ciasto na spód powinno być mniejsze od wymiarów skrzynki o min. 1,5 cm. Kruche ciasto nie będzie dotykało sernika, więc łatwo je będzie nałożyć i zdjąć. Plusem składania skrzynki oddzielnie jest to, że możesz ją przygotować kilka dni wcześniej i przechowywać w suchym miejscu. Jeśli złożysz skrzynkę tak, że będzie dotykała sernika to z czasem kruche ciasto zmięknie. Nie polecam przechowywanie dłużej niż 1-2 dni.        Skrzynka z truskawkami – czekoladowy sernik z galaretką Jestem pewna, że taka skrzynka zrobi wrażenie na Twoich gościach (na mnie zrobiła ;)). Wypróbujesz, prawda? Wszystkiego słodkiego Aneta \\xa0 Inspiracją do powstania kruchej skrzynki z truskawkami był przepis z bloga Amuses Bouche. Przepis na masę serową pochodzi z bloga Moje Wypieki.  —————————————————— Część zawartych w tym wpisie linków, to linki afiliacyjne. Oznacza to, że jeśli klikając w nie, dokonasz zakupu, to my otrzymamy z tego tytułu drobną prowizję. W żaden sposób nie wpływa to na cenę, którą Ty zapłacisz, ale dla nas będzie sygnałem, że cenisz nasze rekomendacje.    Obserwuj nas! Zapisz się na newsletter!Otrzymasz dostęp do nowych wpisów przed ich oficjalną premierą. Już nic Cię nie ominie. :) Po zapisie wyślemy do Ciebie darmowy ebook \"Tort od podstaw\"! Imięwpisz imięEmailwpisz adres emailZAPISZ SIĘ   Posted in Desery, Dzień Dziecka, Imprezy dziecięce, Przyjęcia, TorcikiTagged TruskawkicommentLeave a Comment on Skrzynka z truskawkami – czekoladowy sernik z galaretką  '"
      ]
     },
     "execution_count": 25,
     "metadata": {},
     "output_type": "execute_result"
    }
   ],
   "source": [
    "def getText(url):\n",
    "    request = req.Request(url)\n",
    "    response = req.urlopen(request)\n",
    "    soup = BeautifulSoup(response)\n",
    "    text = ''.join(map(lambda p: p.text, soup.find_all('article')))\n",
    "    print(type(text))\n",
    "    return text\n",
    "\n",
    "for \n",
    "texting = getText(\"https://cakeit.pl/skrzynka-z-truskawkami-czekoladowy-sernik-z-galaretka/\")\n",
    "texting"
   ]
  },
  {
   "cell_type": "code",
   "execution_count": 27,
   "id": "04eefc35",
   "metadata": {},
   "outputs": [
    {
     "ename": "ValueError",
     "evalue": "unknown url type: '#content'",
     "output_type": "error",
     "traceback": [
      "\u001b[1;31m---------------------------------------------------------------------------\u001b[0m",
      "\u001b[1;31mValueError\u001b[0m                                Traceback (most recent call last)",
      "Cell \u001b[1;32mIn[27], line 2\u001b[0m\n\u001b[0;32m      1\u001b[0m \u001b[38;5;28;01mfor\u001b[39;00m link \u001b[38;5;129;01min\u001b[39;00m links:\n\u001b[1;32m----> 2\u001b[0m     getText(link)\n",
      "Cell \u001b[1;32mIn[25], line 2\u001b[0m, in \u001b[0;36mgetText\u001b[1;34m(url)\u001b[0m\n\u001b[0;32m      1\u001b[0m \u001b[38;5;28;01mdef\u001b[39;00m \u001b[38;5;21mgetText\u001b[39m(url):\n\u001b[1;32m----> 2\u001b[0m     request \u001b[38;5;241m=\u001b[39m req\u001b[38;5;241m.\u001b[39mRequest(url)\n\u001b[0;32m      3\u001b[0m     response \u001b[38;5;241m=\u001b[39m req\u001b[38;5;241m.\u001b[39murlopen(request)\n\u001b[0;32m      4\u001b[0m     soup \u001b[38;5;241m=\u001b[39m BeautifulSoup(response)\n",
      "File \u001b[1;32m~\\anaconda3\\Lib\\urllib\\request.py:322\u001b[0m, in \u001b[0;36mRequest.__init__\u001b[1;34m(self, url, data, headers, origin_req_host, unverifiable, method)\u001b[0m\n\u001b[0;32m    319\u001b[0m \u001b[38;5;28;01mdef\u001b[39;00m \u001b[38;5;21m__init__\u001b[39m(\u001b[38;5;28mself\u001b[39m, url, data\u001b[38;5;241m=\u001b[39m\u001b[38;5;28;01mNone\u001b[39;00m, headers\u001b[38;5;241m=\u001b[39m{},\n\u001b[0;32m    320\u001b[0m              origin_req_host\u001b[38;5;241m=\u001b[39m\u001b[38;5;28;01mNone\u001b[39;00m, unverifiable\u001b[38;5;241m=\u001b[39m\u001b[38;5;28;01mFalse\u001b[39;00m,\n\u001b[0;32m    321\u001b[0m              method\u001b[38;5;241m=\u001b[39m\u001b[38;5;28;01mNone\u001b[39;00m):\n\u001b[1;32m--> 322\u001b[0m     \u001b[38;5;28mself\u001b[39m\u001b[38;5;241m.\u001b[39mfull_url \u001b[38;5;241m=\u001b[39m url\n\u001b[0;32m    323\u001b[0m     \u001b[38;5;28mself\u001b[39m\u001b[38;5;241m.\u001b[39mheaders \u001b[38;5;241m=\u001b[39m {}\n\u001b[0;32m    324\u001b[0m     \u001b[38;5;28mself\u001b[39m\u001b[38;5;241m.\u001b[39munredirected_hdrs \u001b[38;5;241m=\u001b[39m {}\n",
      "File \u001b[1;32m~\\anaconda3\\Lib\\urllib\\request.py:348\u001b[0m, in \u001b[0;36mRequest.full_url\u001b[1;34m(self, url)\u001b[0m\n\u001b[0;32m    346\u001b[0m \u001b[38;5;28mself\u001b[39m\u001b[38;5;241m.\u001b[39m_full_url \u001b[38;5;241m=\u001b[39m unwrap(url)\n\u001b[0;32m    347\u001b[0m \u001b[38;5;28mself\u001b[39m\u001b[38;5;241m.\u001b[39m_full_url, \u001b[38;5;28mself\u001b[39m\u001b[38;5;241m.\u001b[39mfragment \u001b[38;5;241m=\u001b[39m _splittag(\u001b[38;5;28mself\u001b[39m\u001b[38;5;241m.\u001b[39m_full_url)\n\u001b[1;32m--> 348\u001b[0m \u001b[38;5;28mself\u001b[39m\u001b[38;5;241m.\u001b[39m_parse()\n",
      "File \u001b[1;32m~\\anaconda3\\Lib\\urllib\\request.py:377\u001b[0m, in \u001b[0;36mRequest._parse\u001b[1;34m(self)\u001b[0m\n\u001b[0;32m    375\u001b[0m \u001b[38;5;28mself\u001b[39m\u001b[38;5;241m.\u001b[39mtype, rest \u001b[38;5;241m=\u001b[39m _splittype(\u001b[38;5;28mself\u001b[39m\u001b[38;5;241m.\u001b[39m_full_url)\n\u001b[0;32m    376\u001b[0m \u001b[38;5;28;01mif\u001b[39;00m \u001b[38;5;28mself\u001b[39m\u001b[38;5;241m.\u001b[39mtype \u001b[38;5;129;01mis\u001b[39;00m \u001b[38;5;28;01mNone\u001b[39;00m:\n\u001b[1;32m--> 377\u001b[0m     \u001b[38;5;28;01mraise\u001b[39;00m \u001b[38;5;167;01mValueError\u001b[39;00m(\u001b[38;5;124m\"\u001b[39m\u001b[38;5;124munknown url type: \u001b[39m\u001b[38;5;132;01m%r\u001b[39;00m\u001b[38;5;124m\"\u001b[39m \u001b[38;5;241m%\u001b[39m \u001b[38;5;28mself\u001b[39m\u001b[38;5;241m.\u001b[39mfull_url)\n\u001b[0;32m    378\u001b[0m \u001b[38;5;28mself\u001b[39m\u001b[38;5;241m.\u001b[39mhost, \u001b[38;5;28mself\u001b[39m\u001b[38;5;241m.\u001b[39mselector \u001b[38;5;241m=\u001b[39m _splithost(rest)\n\u001b[0;32m    379\u001b[0m \u001b[38;5;28;01mif\u001b[39;00m \u001b[38;5;28mself\u001b[39m\u001b[38;5;241m.\u001b[39mhost:\n",
      "\u001b[1;31mValueError\u001b[0m: unknown url type: '#content'"
     ]
    }
   ],
   "source": [
    "for link in links:\n",
    "    getText(link)"
   ]
  },
  {
   "cell_type": "code",
   "execution_count": null,
   "id": "7c89dfcc",
   "metadata": {},
   "outputs": [],
   "source": []
  }
 ],
 "metadata": {
  "kernelspec": {
   "display_name": "Python 3 (ipykernel)",
   "language": "python",
   "name": "python3"
  },
  "language_info": {
   "codemirror_mode": {
    "name": "ipython",
    "version": 3
   },
   "file_extension": ".py",
   "mimetype": "text/x-python",
   "name": "python",
   "nbconvert_exporter": "python",
   "pygments_lexer": "ipython3",
   "version": "3.11.5"
  }
 },
 "nbformat": 4,
 "nbformat_minor": 5
}
