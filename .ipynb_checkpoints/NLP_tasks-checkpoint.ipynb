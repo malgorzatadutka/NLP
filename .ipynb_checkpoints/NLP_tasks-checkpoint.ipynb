{
 "cells": [
  {
   "cell_type": "code",
   "execution_count": 22,
   "id": "d5f58d70",
   "metadata": {},
   "outputs": [
    {
     "name": "stderr",
     "output_type": "stream",
     "text": [
      "[nltk_data] Downloading package punkt to\n",
      "[nltk_data]     C:\\Users\\jutro\\AppData\\Roaming\\nltk_data...\n",
      "[nltk_data]   Package punkt is already up-to-date!\n",
      "[nltk_data] Downloading package stopwords to\n",
      "[nltk_data]     C:\\Users\\jutro\\AppData\\Roaming\\nltk_data...\n",
      "[nltk_data]   Package stopwords is already up-to-date!\n",
      "[nltk_data] Downloading package averaged_perceptron_tagger to\n",
      "[nltk_data]     C:\\Users\\jutro\\AppData\\Roaming\\nltk_data...\n",
      "[nltk_data]   Package averaged_perceptron_tagger is already up-to-\n",
      "[nltk_data]       date!\n",
      "[nltk_data] Downloading package wordnet to\n",
      "[nltk_data]     C:\\Users\\jutro\\AppData\\Roaming\\nltk_data...\n"
     ]
    },
    {
     "data": {
      "text/plain": [
       "True"
      ]
     },
     "execution_count": 22,
     "metadata": {},
     "output_type": "execute_result"
    }
   ],
   "source": [
    "import nltk\n",
    "nltk.download('punkt')\n",
    "nltk.download('stopwords')\n",
    "nltk.download('averaged_perceptron_tagger')\n",
    "nltk.download('wordnet')"
   ]
  },
  {
   "cell_type": "markdown",
   "id": "67da4ddc",
   "metadata": {},
   "source": [
    "**1. Tokenization**"
   ]
  },
  {
   "cell_type": "markdown",
   "id": "961c18ac",
   "metadata": {},
   "source": [
    "Split text into words. "
   ]
  },
  {
   "cell_type": "code",
   "execution_count": 10,
   "id": "d224fc52",
   "metadata": {},
   "outputs": [
    {
     "name": "stdout",
     "output_type": "stream",
     "text": [
      "['Sailing', 'employs', 'the', 'wind—acting', 'on', 'sails', ',', 'wingsails', 'or', 'kites—to', 'propel', 'a', 'craft', 'on', 'the', 'surface', 'of', 'the', 'water', ',', 'on', 'ice', 'or', 'on', 'land', 'over', 'a', 'chosen', 'course', ',', 'which', 'is', 'often', 'part', 'of', 'a', 'larger', 'plan', 'of', 'navigation', '.']\n"
     ]
    }
   ],
   "source": [
    "from nltk.tokenize import word_tokenize\n",
    "text = \"Sailing employs the wind—acting on sails, wingsails or kites—to propel a craft on the surface of the water, on ice or on land over a chosen course, which is often part of a larger plan of navigation.\"\n",
    "print(word_tokenize(text))"
   ]
  },
  {
   "cell_type": "code",
   "execution_count": 11,
   "id": "dbe834ea",
   "metadata": {},
   "outputs": [
    {
     "name": "stdout",
     "output_type": "stream",
     "text": [
      "[['Sailing', 'employs', 'the', 'wind—acting', 'on', 'sails', ',', 'wingsails', 'or', 'kites—to', 'propel', 'a', 'craft', 'on', 'the', 'surface', 'of', 'the', 'water', ',', 'on', 'ice', 'or', 'on', 'land', 'over', 'a', 'chosen', 'course', ',', 'which', 'is', 'often', 'part', 'of', 'a', 'larger', 'plan', 'of', 'navigation', '.']]\n"
     ]
    }
   ],
   "source": [
    "from nltk.tokenize import sent_tokenize\n",
    "sentences = sent_tokenize(text)\n",
    "words = [word_tokenize(sent) for sent in sentences]\n",
    "print(words)"
   ]
  },
  {
   "cell_type": "markdown",
   "id": "e6e86e10",
   "metadata": {},
   "source": [
    "Split text into sentences. "
   ]
  },
  {
   "cell_type": "code",
   "execution_count": 12,
   "id": "882c2e5b",
   "metadata": {},
   "outputs": [
    {
     "name": "stdout",
     "output_type": "stream",
     "text": [
      "['Sailing employs the wind—acting on sails, wingsails or kites—to propel a craft on the surface of the water, on ice or on land over a chosen course, which is often part of a larger plan of navigation.']\n"
     ]
    }
   ],
   "source": [
    "print(sentences)"
   ]
  },
  {
   "cell_type": "markdown",
   "id": "d566a658",
   "metadata": {},
   "source": [
    "**2. Removing stop words** "
   ]
  },
  {
   "cell_type": "code",
   "execution_count": 13,
   "id": "ef5471e5",
   "metadata": {},
   "outputs": [
    {
     "name": "stdout",
     "output_type": "stream",
     "text": [
      "['Sailing', 'employs', 'wind—acting', 'sails', 'wingsails', 'kites—to', 'propel', 'craft', 'surface', 'water', 'ice', 'land', 'chosen', 'course', 'often', 'part', 'larger', 'plan', 'navigation']\n"
     ]
    }
   ],
   "source": [
    "from nltk.corpus import stopwords\n",
    "from string import punctuation\n",
    "custom_stop_words = set(stopwords.words('english')+list(punctuation))\n",
    "words_wo_stop_words = [word for word in word_tokenize(text) if word not in custom_stop_words]\n",
    "print(words_wo_stop_words)"
   ]
  },
  {
   "cell_type": "markdown",
   "id": "d79c344e",
   "metadata": {},
   "source": [
    "**3. Identify n-grams**"
   ]
  },
  {
   "cell_type": "code",
   "execution_count": 14,
   "id": "1ed7a5c1",
   "metadata": {},
   "outputs": [
    {
     "data": {
      "text/plain": [
       "[(('Sailing', 'employs'), 1),\n",
       " (('chosen', 'course'), 1),\n",
       " (('course', 'often'), 1),\n",
       " (('craft', 'surface'), 1),\n",
       " (('employs', 'wind—acting'), 1),\n",
       " (('ice', 'land'), 1),\n",
       " (('kites—to', 'propel'), 1),\n",
       " (('land', 'chosen'), 1),\n",
       " (('larger', 'plan'), 1),\n",
       " (('often', 'part'), 1),\n",
       " (('part', 'larger'), 1),\n",
       " (('plan', 'navigation'), 1),\n",
       " (('propel', 'craft'), 1),\n",
       " (('sails', 'wingsails'), 1),\n",
       " (('surface', 'water'), 1),\n",
       " (('water', 'ice'), 1),\n",
       " (('wind—acting', 'sails'), 1),\n",
       " (('wingsails', 'kites—to'), 1)]"
      ]
     },
     "execution_count": 14,
     "metadata": {},
     "output_type": "execute_result"
    }
   ],
   "source": [
    "from nltk.collocations import *\n",
    "bigram_measures = nltk.collocations.BigramAssocMeasures()\n",
    "finder = BigramCollocationFinder.from_words(words_wo_stop_words)\n",
    "sorted(finder.ngram_fd.items())"
   ]
  },
  {
   "cell_type": "markdown",
   "id": "de169571",
   "metadata": {},
   "source": [
    "**4. Stemming and Part-Of-Speech tagging**"
   ]
  },
  {
   "cell_type": "code",
   "execution_count": 15,
   "id": "da4828cd",
   "metadata": {},
   "outputs": [
    {
     "name": "stdout",
     "output_type": "stream",
     "text": [
      "['sail', 'employ', 'the', 'wind—acting', 'on', 'sail', ',', 'wingsail', 'or', 'kites—to', 'propel', 'a', 'craft', 'on', 'the', 'surfac', 'of', 'the', 'wat', ',', 'on', 'ic', 'or', 'on', 'land', 'ov', 'a', 'chos', 'cours', ',', 'which', 'is', 'oft', 'part', 'of', 'a', 'larg', 'plan', 'of', 'navig', '.']\n"
     ]
    }
   ],
   "source": [
    "from nltk.stem.lancaster import LancasterStemmer\n",
    "st = LancasterStemmer()\n",
    "stemmedWords = [st.stem(word) for word in word_tokenize(text)]\n",
    "print(stemmedWords)"
   ]
  },
  {
   "cell_type": "code",
   "execution_count": 18,
   "id": "65683571",
   "metadata": {},
   "outputs": [
    {
     "data": {
      "text/plain": [
       "[('Sailing', 'VBG'),\n",
       " ('employs', 'VBZ'),\n",
       " ('the', 'DT'),\n",
       " ('wind—acting', 'VBG'),\n",
       " ('on', 'IN'),\n",
       " ('sails', 'NNS'),\n",
       " (',', ','),\n",
       " ('wingsails', 'NNS'),\n",
       " ('or', 'CC'),\n",
       " ('kites—to', 'VB'),\n",
       " ('propel', 'VB'),\n",
       " ('a', 'DT'),\n",
       " ('craft', 'NN'),\n",
       " ('on', 'IN'),\n",
       " ('the', 'DT'),\n",
       " ('surface', 'NN'),\n",
       " ('of', 'IN'),\n",
       " ('the', 'DT'),\n",
       " ('water', 'NN'),\n",
       " (',', ','),\n",
       " ('on', 'IN'),\n",
       " ('ice', 'NN'),\n",
       " ('or', 'CC'),\n",
       " ('on', 'IN'),\n",
       " ('land', 'NN'),\n",
       " ('over', 'IN'),\n",
       " ('a', 'DT'),\n",
       " ('chosen', 'JJ'),\n",
       " ('course', 'NN'),\n",
       " (',', ','),\n",
       " ('which', 'WDT'),\n",
       " ('is', 'VBZ'),\n",
       " ('often', 'RB'),\n",
       " ('part', 'NN'),\n",
       " ('of', 'IN'),\n",
       " ('a', 'DT'),\n",
       " ('larger', 'JJR'),\n",
       " ('plan', 'NN'),\n",
       " ('of', 'IN'),\n",
       " ('navigation', 'NN'),\n",
       " ('.', '.')]"
      ]
     },
     "execution_count": 18,
     "metadata": {},
     "output_type": "execute_result"
    }
   ],
   "source": [
    "nltk.pos_tag(word_tokenize(text))"
   ]
  },
  {
   "cell_type": "markdown",
   "id": "67e4f694",
   "metadata": {},
   "source": [
    "**5. Word sense disambiguation**"
   ]
  },
  {
   "cell_type": "code",
   "execution_count": 30,
   "id": "787ac402",
   "metadata": {},
   "outputs": [
    {
     "name": "stdout",
     "output_type": "stream",
     "text": [
      "Synset('flood.n.01') the rising of a body of water and its overflowing onto normally dry land\n",
      "Synset('flood.n.02') an overwhelming number or amount\n",
      "Synset('flood.n.03') light that is a source of artificial illumination having a broad beam; used in photography\n",
      "Synset('flood.n.04') a large flow\n",
      "Synset('flood.n.05') the act of flooding; filling to overflowing\n",
      "Synset('flood_tide.n.02') the occurrence of incoming water (between a low tide and the following high tide);  -Shakespeare\n",
      "Synset('deluge.v.01') fill quickly beyond capacity; as with a liquid\n",
      "Synset('flood.v.02') cover with liquid, usually water\n",
      "Synset('flood.v.03') supply with an excess of\n",
      "Synset('flood.v.04') become filled to overflowing\n"
     ]
    }
   ],
   "source": [
    "from nltk.corpus import wordnet # lexical base\n",
    "for ss in wordnet.synsets('flood'):\n",
    "    print(ss, ss.definition())"
   ]
  },
  {
   "cell_type": "code",
   "execution_count": 31,
   "id": "a24ededa",
   "metadata": {},
   "outputs": [
    {
     "name": "stdout",
     "output_type": "stream",
     "text": [
      "Synset('flood_tide.n.02') the occurrence of incoming water (between a low tide and the following high tide);  -Shakespeare\n"
     ]
    }
   ],
   "source": [
    "from nltk.wsd import lesk # classical algorithm for word sense disambiguation\n",
    "sense = lesk(word_tokenize(\"The flood took all they had.\"), 'flood')\n",
    "print(sense, sense.definition())"
   ]
  },
  {
   "cell_type": "code",
   "execution_count": 33,
   "id": "357612a5",
   "metadata": {},
   "outputs": [
    {
     "name": "stdout",
     "output_type": "stream",
     "text": [
      "Synset('flood.n.05') the act of flooding; filling to overflowing\n"
     ]
    }
   ],
   "source": [
    "sense = lesk(word_tokenize(\"We should not flood the investigators with all information, but make sure that the right people have access to the right data.\"), 'flood')\n",
    "print(sense, sense.definition())"
   ]
  },
  {
   "cell_type": "code",
   "execution_count": null,
   "id": "583c0bf1",
   "metadata": {},
   "outputs": [],
   "source": []
  }
 ],
 "metadata": {
  "kernelspec": {
   "display_name": "Python 3 (ipykernel)",
   "language": "python",
   "name": "python3"
  },
  "language_info": {
   "codemirror_mode": {
    "name": "ipython",
    "version": 3
   },
   "file_extension": ".py",
   "mimetype": "text/x-python",
   "name": "python",
   "nbconvert_exporter": "python",
   "pygments_lexer": "ipython3",
   "version": "3.11.5"
  }
 },
 "nbformat": 4,
 "nbformat_minor": 5
}
